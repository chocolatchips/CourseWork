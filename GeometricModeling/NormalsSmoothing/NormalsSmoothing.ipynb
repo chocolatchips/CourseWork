{
 "cells": [
  {
   "cell_type": "markdown",
   "metadata": {},
   "source": [
    "# Assigment 3"
   ]
  },
  {
   "cell_type": "code",
   "execution_count": 1,
   "metadata": {},
   "outputs": [],
   "source": [
    "import igl\n",
    "import numpy as np\n",
    "import meshplot as mp"
   ]
  },
  {
   "cell_type": "code",
   "execution_count": 2,
   "metadata": {
    "tags": []
   },
   "outputs": [
    {
     "data": {
      "application/vnd.jupyter.widget-view+json": {
       "model_id": "a9f08553f06d4424a525dc60617438ae",
       "version_major": 2,
       "version_minor": 0
      },
      "text/plain": [
       "Renderer(camera=PerspectiveCamera(children=(DirectionalLight(color='white', intensity=0.6, position=(-0.016860…"
      ]
     },
     "metadata": {},
     "output_type": "display_data"
    },
    {
     "data": {
      "text/plain": [
       "<meshplot.Viewer.Viewer at 0x2458d42e510>"
      ]
     },
     "execution_count": 2,
     "metadata": {},
     "output_type": "execute_result"
    }
   ],
   "source": [
    "v, f = igl.read_triangle_mesh(\"data/bunny.off\")\n",
    "mp.plot(v, f, shading={\"wireframe\": True})"
   ]
  },
  {
   "cell_type": "markdown",
   "metadata": {
    "tags": []
   },
   "source": [
    "# Vertex normal"
   ]
  },
  {
   "cell_type": "markdown",
   "metadata": {},
   "source": [
    "### Standard face normal"
   ]
  },
  {
   "cell_type": "code",
   "execution_count": 3,
   "metadata": {},
   "outputs": [
    {
     "data": {
      "application/vnd.jupyter.widget-view+json": {
       "model_id": "c7f2beb8bc264dd0b10736f9e33579a6",
       "version_major": 2,
       "version_minor": 0
      },
      "text/plain": [
       "Renderer(camera=PerspectiveCamera(children=(DirectionalLight(color='white', intensity=0.6, position=(-0.016860…"
      ]
     },
     "metadata": {},
     "output_type": "display_data"
    }
   ],
   "source": [
    "def standard_face_normals(v, f):\n",
    "    vert_norm = {}\n",
    "\n",
    "    for i in range(v.shape[0]):\n",
    "        vert_norm[i] = np.array([0.,0.,0.])\n",
    "\n",
    "    for face in f:\n",
    "        e1 = v[face[1]] - v[face[0]]\n",
    "        e2 = v[face[2]] - v[face[0]]\n",
    "        cross = np.cross(e1, e2)\n",
    "        n = cross / np.linalg.norm(cross)\n",
    "\n",
    "        for vert in face:\n",
    "            vert_norm[vert] += n\n",
    "\n",
    "    vn = []\n",
    "\n",
    "    for i in range(v.shape[0]):\n",
    "        vn.append(vert_norm[i] / np.linalg.norm(vert_norm[i]))\n",
    "\n",
    "    vn = np.array(vn)\n",
    "    \n",
    "    return vn\n",
    "    \n",
    "p = mp.plot(v, f, n = standard_face_normals(v, f), shading={'flat':False})"
   ]
  },
  {
   "cell_type": "markdown",
   "metadata": {},
   "source": [
    "### Area-weighted face normal"
   ]
  },
  {
   "cell_type": "code",
   "execution_count": 4,
   "metadata": {
    "tags": []
   },
   "outputs": [
    {
     "data": {
      "application/vnd.jupyter.widget-view+json": {
       "model_id": "68cea75b5f934ac2a197e1d154bb623c",
       "version_major": 2,
       "version_minor": 0
      },
      "text/plain": [
       "Renderer(camera=PerspectiveCamera(children=(DirectionalLight(color='white', intensity=0.6, position=(-0.016860…"
      ]
     },
     "metadata": {},
     "output_type": "display_data"
    }
   ],
   "source": [
    "def area_weighted_face_normal(v, f):\n",
    "    d_area = igl.doublearea(v, f)\n",
    "\n",
    "    vert_area_norm = {}\n",
    "\n",
    "    for i in range(v.shape[0]):\n",
    "        vert_area_norm[i] = np.array([0.,0.,0.])\n",
    "\n",
    "    for i in range(f.shape[0]):\n",
    "        e1 = v[f[i][1]] - v[f[i][0]]\n",
    "        e2 = v[f[i][2]] - v[f[i][0]]\n",
    "        n = np.cross(e1, e2)\n",
    "\n",
    "        for vert in f[i]:\n",
    "            vert_area_norm[vert] += d_area[i] * n\n",
    "\n",
    "    vert_area_n = []\n",
    "\n",
    "    for i in range(v.shape[0]):\n",
    "        vert_area_n.append(vert_area_norm[i] / np.linalg.norm(vert_area_norm[i]))\n",
    "\n",
    "    vert_area_n = np.array(vert_area_n)\n",
    "    \n",
    "    return vert_area_n\n",
    "\n",
    "p = mp.plot(v, f, n = area_weighted_face_normal(v, f), shading={'flat':False})"
   ]
  },
  {
   "cell_type": "markdown",
   "metadata": {},
   "source": [
    "### Mean-curvature normal"
   ]
  },
  {
   "cell_type": "code",
   "execution_count": 5,
   "metadata": {
    "tags": []
   },
   "outputs": [
    {
     "data": {
      "application/vnd.jupyter.widget-view+json": {
       "model_id": "62c3e5291056483aae6b911a40ebb60a",
       "version_major": 2,
       "version_minor": 0
      },
      "text/plain": [
       "Renderer(camera=PerspectiveCamera(children=(DirectionalLight(color='white', intensity=0.6, position=(-0.016860…"
      ]
     },
     "metadata": {},
     "output_type": "display_data"
    }
   ],
   "source": [
    "def mean_curvature_normals(v, f):\n",
    "    Lw = igl.cotmatrix(v, f)\n",
    "    H = Lw / 2.0\n",
    "\n",
    "    MCN = H @ v\n",
    "    mcn = np.zeros(v.shape)\n",
    "    vert_area_n = area_weighted_face_normal(v, f)\n",
    "    vn = standard_face_normals(v, f)\n",
    "\n",
    "    eps = 1e-4\n",
    "\n",
    "    for i in range(MCN.shape[0]):\n",
    "        if np.linalg.norm(MCN[i]) > eps:\n",
    "            n = MCN[i] / np.linalg.norm(MCN[i])\n",
    "            if np.dot(n, vn[i]) < 0:\n",
    "                n *= -1\n",
    "            mcn[i] = n\n",
    "        else:\n",
    "            mcn[i] = vert_area_n[i]\n",
    "            \n",
    "    return mcn\n",
    "\n",
    "p = mp.plot(v, f, n=mean_curvature_normals(v, f), shading={'flat':False})"
   ]
  },
  {
   "cell_type": "markdown",
   "metadata": {},
   "source": [
    "### PCA normal"
   ]
  },
  {
   "cell_type": "code",
   "execution_count": 6,
   "metadata": {
    "tags": []
   },
   "outputs": [
    {
     "data": {
      "application/vnd.jupyter.widget-view+json": {
       "model_id": "aaa6cb7ca679476796f8c18935483e18",
       "version_major": 2,
       "version_minor": 0
      },
      "text/plain": [
       "Renderer(camera=PerspectiveCamera(children=(DirectionalLight(color='white', intensity=0.6, position=(-0.016860…"
      ]
     },
     "metadata": {},
     "output_type": "display_data"
    }
   ],
   "source": [
    "def PCA_normals(v, f, k):\n",
    "    normals = np.zeros(v.shape)\n",
    "    vert_norm = standard_face_normals(v, f)\n",
    "\n",
    "    for i in range(v.shape[0]):\n",
    "        part = np.argpartition(np.linalg.norm(np.abs(v - v[i]), axis=1), k)[:k]\n",
    "        centroid = np.mean(v[part], axis=0)\n",
    "\n",
    "        Y = v[part] - centroid\n",
    "        S = np.dot(Y.T, Y)\n",
    "\n",
    "        eigenvalues, eigenvectors = np.linalg.eig(S)\n",
    "        vec = eigenvectors[:, np.argmin(eigenvalues)]\n",
    "\n",
    "        vec /= np.linalg.norm(vec)\n",
    "        if np.dot(vec, vert_norm[i]) < 0:\n",
    "            vec = -vec\n",
    "        normals[i] = vec\n",
    "\n",
    "    return normals\n",
    "\n",
    "p = mp.plot(v, f, n=PCA_normals(v, f, 30), shading={'flat':False})"
   ]
  },
  {
   "cell_type": "markdown",
   "metadata": {},
   "source": [
    "### Quadratic fitting normal"
   ]
  },
  {
   "cell_type": "code",
   "execution_count": 21,
   "metadata": {},
   "outputs": [
    {
     "data": {
      "application/vnd.jupyter.widget-view+json": {
       "model_id": "251630cb7c4744aaa075bebb2968bc45",
       "version_major": 2,
       "version_minor": 0
      },
      "text/plain": [
       "Renderer(camera=PerspectiveCamera(children=(DirectionalLight(color='white', intensity=0.6, position=(-0.016860…"
      ]
     },
     "metadata": {},
     "output_type": "display_data"
    }
   ],
   "source": [
    "def project(vi, vp, norm):\n",
    "    return vp - (norm * ((vp - vi).dot(norm)))\n",
    "\n",
    "def create_ref_frame(vi, adj, height_axis):\n",
    "    longest_v = project(vi, adj, height_axis) - (vi / np.linalg.norm(vi))\n",
    "    longest_v /= np.linalg.norm(longest_v)\n",
    "    \n",
    "    y_axis = np.cross(np.array(height_axis), np.array(longest_v))\n",
    "    y_axis /= np.linalg.norm(y_axis)\n",
    "    \n",
    "    ref = [longest_v, y_axis, height_axis]\n",
    "    return ref\n",
    "\n",
    "def quad_fit(points):\n",
    "    A =  np.zeros((len(points), 6))\n",
    "    b = np.zeros((len(points), 1))\n",
    "    \n",
    "    for i in range(len(points)):\n",
    "        u = points[i][0]\n",
    "        v = points[i][1]\n",
    "        n = points[i][2]\n",
    "        \n",
    "        A[i, 0] = u * u\n",
    "        A[i, 1] = u * v\n",
    "        A[i, 2] = v * v\n",
    "        A[i, 3] = u\n",
    "        A[i, 4] = v\n",
    "        A[i, 5] = 1\n",
    "        \n",
    "        b[i] = n\n",
    "    \n",
    "    lst_sq, _, _, _ = np.linalg.lstsq(A, b, rcond=None)\n",
    "    return lst_sq\n",
    "\n",
    "\n",
    "def get_normal(vi, coef):\n",
    "    u = vi[0]\n",
    "    v = vi[1]\n",
    "        \n",
    "    a = coef.item(0)\n",
    "    b = coef.item(1)\n",
    "    c = coef.item(2)\n",
    "    d = coef.item(3)\n",
    "    e = coef.item(4)\n",
    "    \n",
    "    du = 2 * a * u + b * v + d\n",
    "    dv = b * u + 2 * c * v + e\n",
    "    \n",
    "    Tu = np.array([1, 0, du])\n",
    "    Tv = np.array([0, 1, dv])\n",
    "    \n",
    "    n = np.cross(Tu, Tv)\n",
    "    n = n / np.linalg.norm(n)\n",
    "    return n\n",
    "    \n",
    "\n",
    "def fit_quad(vi, ref, adj):\n",
    "    points = v[adj]\n",
    "    return quad_fit(points)\n",
    "\n",
    "def quad_fit_norms(v, f, k):\n",
    "    vert_norm = standard_face_normals(v, f)\n",
    "\n",
    "    adj = igl.adjacency_list(f)\n",
    "    norms = np.zeros(v.shape)\n",
    "\n",
    "    for i in range(v.shape[0]):\n",
    "        part = np.argpartition(np.linalg.norm(np.abs(v - v[i]), axis=1), k)[:k]\n",
    "        centroid = np.mean(v[part], axis=0)\n",
    "\n",
    "        Y = v[part] - centroid\n",
    "        S = np.dot(Y.T, Y)\n",
    "\n",
    "        eigenvalues, eigenvectors = np.linalg.eig(S)\n",
    "        height_axis = eigenvectors[:, np.argmin(eigenvalues)]\n",
    "\n",
    "        height_axis /= np.linalg.norm(height_axis)\n",
    "\n",
    "        ref = create_ref_frame(v[i], v[adj[i][0]], height_axis)\n",
    "        coef = fit_quad(v[i], ref, adj[i])\n",
    "        n = get_normal(v[i], coef)\n",
    "\n",
    "\n",
    "        if np.dot(n, vert_norm[i]) < 0:\n",
    "            n = -n\n",
    "        n /= np.linalg.norm(n)\n",
    "        norms[i] = n\n",
    "    return norms\n",
    "\n",
    "p = mp.plot(v, f, n=quad_fit_norms(v, f, 30), shading={'flat':False})"
   ]
  },
  {
   "cell_type": "markdown",
   "metadata": {},
   "source": [
    "## All Normals"
   ]
  },
  {
   "cell_type": "code",
   "execution_count": 8,
   "metadata": {
    "tags": []
   },
   "outputs": [
    {
     "data": {
      "application/vnd.jupyter.widget-view+json": {
       "model_id": "f14ff6011bf3499ab6e5368f4e9f832f",
       "version_major": 2,
       "version_minor": 0
      },
      "text/plain": [
       "HBox(children=(Output(), Output()))"
      ]
     },
     "metadata": {},
     "output_type": "display_data"
    },
    {
     "data": {
      "application/vnd.jupyter.widget-view+json": {
       "model_id": "af43ae352c164e899de7f045bf9329f6",
       "version_major": 2,
       "version_minor": 0
      },
      "text/plain": [
       "HBox(children=(Output(), Output()))"
      ]
     },
     "metadata": {},
     "output_type": "display_data"
    },
    {
     "data": {
      "application/vnd.jupyter.widget-view+json": {
       "model_id": "efa9b7677bf640319a3d2f51ee643538",
       "version_major": 2,
       "version_minor": 0
      },
      "text/plain": [
       "HBox(children=(Output(), Output()))"
      ]
     },
     "metadata": {},
     "output_type": "display_data"
    }
   ],
   "source": [
    "p = mp.subplot(v, f, n=standard_face_normals(v, f), shading={'flat':False}, s = [3,2,0])\n",
    "mp.subplot(v, f, n=area_weighted_face_normal(v, f), shading={'flat':False}, s = [3,2,1], data=p)\n",
    "mp.subplot(v, f, n=mean_curvature_normals(v, f), shading={'flat':False}, s = [3,2,2], data=p)\n",
    "mp.subplot(v, f, n=PCA_normals(v, f, 30), shading={'flat':False}, s = [3,2,3], data=p)\n",
    "mp.subplot(v, f, n=quad_fit_norms(v, f, 30), shading={'flat':False}, s = [3,2,4], data=p)"
   ]
  },
  {
   "cell_type": "markdown",
   "metadata": {},
   "source": [
    "# Curvature"
   ]
  },
  {
   "cell_type": "code",
   "execution_count": 9,
   "metadata": {
    "tags": []
   },
   "outputs": [],
   "source": [
    "from scipy.sparse.linalg import spsolve\n",
    "import scipy.sparse as sp\n",
    "\n",
    "v, f = igl.read_triangle_mesh(\"data/bunny.off\")"
   ]
  },
  {
   "cell_type": "markdown",
   "metadata": {},
   "source": [
    "### Gaussian curvature"
   ]
  },
  {
   "cell_type": "code",
   "execution_count": 10,
   "metadata": {
    "tags": []
   },
   "outputs": [
    {
     "data": {
      "application/vnd.jupyter.widget-view+json": {
       "model_id": "c0d8c1c1769e4d268e7c8be1a09f705c",
       "version_major": 2,
       "version_minor": 0
      },
      "text/plain": [
       "Renderer(camera=PerspectiveCamera(children=(DirectionalLight(color='white', intensity=0.6, position=(-0.016860…"
      ]
     },
     "metadata": {},
     "output_type": "display_data"
    }
   ],
   "source": [
    "v1, v2, k1, k2 = igl.principal_curvature(v, f)\n",
    "\n",
    "p = mp.plot(v, f, k1*k2)"
   ]
  },
  {
   "cell_type": "markdown",
   "metadata": {},
   "source": [
    "### Mean curvature"
   ]
  },
  {
   "cell_type": "code",
   "execution_count": 11,
   "metadata": {
    "tags": []
   },
   "outputs": [
    {
     "data": {
      "application/vnd.jupyter.widget-view+json": {
       "model_id": "2b679026dbcd4d839598b08367d73fb7",
       "version_major": 2,
       "version_minor": 0
      },
      "text/plain": [
       "Renderer(camera=PerspectiveCamera(children=(DirectionalLight(color='white', intensity=0.6, position=(-0.016860…"
      ]
     },
     "metadata": {},
     "output_type": "display_data"
    }
   ],
   "source": [
    "Lw = igl.cotmatrix(v, f)\n",
    "H = sp.linalg.norm(Lw, axis=0) / 2.0\n",
    "p = mp.plot(v, f, H)"
   ]
  },
  {
   "cell_type": "markdown",
   "metadata": {},
   "source": [
    "### Principal curvature"
   ]
  },
  {
   "cell_type": "code",
   "execution_count": 12,
   "metadata": {
    "tags": []
   },
   "outputs": [
    {
     "data": {
      "application/vnd.jupyter.widget-view+json": {
       "model_id": "0ab97b3b795748539ed152a50bb3ded1",
       "version_major": 2,
       "version_minor": 0
      },
      "text/plain": [
       "HBox(children=(Output(), Output()))"
      ]
     },
     "metadata": {},
     "output_type": "display_data"
    },
    {
     "data": {
      "application/vnd.jupyter.widget-view+json": {
       "model_id": "f8dc2729381049dd9318392e71deca3d",
       "version_major": 2,
       "version_minor": 0
      },
      "text/plain": [
       "HBox(children=(Output(), Output()))"
      ]
     },
     "metadata": {},
     "output_type": "display_data"
    },
    {
     "data": {
      "application/vnd.jupyter.widget-view+json": {
       "model_id": "b47b21e202424b4e9c3e22578a5a6ad6",
       "version_major": 2,
       "version_minor": 0
      },
      "text/plain": [
       "Renderer(camera=PerspectiveCamera(children=(DirectionalLight(color='white', intensity=0.6, position=(-0.016860…"
      ]
     },
     "metadata": {},
     "output_type": "display_data"
    },
    {
     "data": {
      "text/plain": [
       "2"
      ]
     },
     "execution_count": 12,
     "metadata": {},
     "output_type": "execute_result"
    }
   ],
   "source": [
    "v1, v2, k1, k2 = igl.principal_curvature(v, f)\n",
    "h2 = 0.5 * (k1 + k2)\n",
    "\n",
    "avg = igl.avg_edge_length(v, f) / 2.0\n",
    "\n",
    "p = mp.subplot(v, f, k1, s = [2,2,0])\n",
    "mp.subplot(v, f, k2, s = [2,2,1], data = p)\n",
    "\n",
    "q = mp.plot(v, f)\n",
    "q.add_lines(v + v1 * avg, v - v1 * avg, shading={'line_color':'red'})\n",
    "q.add_lines(v + v2 * avg, v - v2 * avg, shading={'line_color':'green'})\n",
    "\n"
   ]
  },
  {
   "cell_type": "markdown",
   "metadata": {},
   "source": [
    "# Smoothing with the Laplacian"
   ]
  },
  {
   "cell_type": "code",
   "execution_count": 13,
   "metadata": {},
   "outputs": [
    {
     "data": {
      "application/vnd.jupyter.widget-view+json": {
       "model_id": "a090cd66340a4aa1a119c722250ff847",
       "version_major": 2,
       "version_minor": 0
      },
      "text/plain": [
       "Renderer(camera=PerspectiveCamera(children=(DirectionalLight(color='white', intensity=0.6, position=(0.0, 0.0,…"
      ]
     },
     "metadata": {},
     "output_type": "display_data"
    }
   ],
   "source": [
    "import scipy.sparse as sp\n",
    "from scipy.sparse.linalg import spsolve\n",
    "\n",
    "vcow, fcow = igl.read_triangle_mesh(\"data/cow.off\")\n",
    "cow_plot = mp.plot(vcow, fcow, shading={'wireframe':True})"
   ]
  },
  {
   "cell_type": "code",
   "execution_count": 14,
   "metadata": {
    "tags": []
   },
   "outputs": [],
   "source": [
    "def identity(v):\n",
    "    return sp.identity(v.shape[0])\n",
    "\n",
    "def uniform_Laplace(v, f):\n",
    "    adj = igl.adjacency_list(f)\n",
    "    LU = sp.lil_matrix((v.shape[0], v.shape[0]))\n",
    "    for i, x in enumerate(adj):\n",
    "        LU[i,i] = -len(adj[i])\n",
    "        for j in x:\n",
    "            LU[i, j] = 1\n",
    "    return LU"
   ]
  },
  {
   "cell_type": "markdown",
   "metadata": {},
   "source": [
    "## Explicit laplacian"
   ]
  },
  {
   "cell_type": "markdown",
   "metadata": {},
   "source": [
    "### Cotangent Explicit"
   ]
  },
  {
   "cell_type": "code",
   "execution_count": 15,
   "metadata": {
    "tags": []
   },
   "outputs": [
    {
     "data": {
      "application/vnd.jupyter.widget-view+json": {
       "model_id": "ae991851d4934e2bab420103387a22fd",
       "version_major": 2,
       "version_minor": 0
      },
      "text/plain": [
       "HBox(children=(Output(), Output()))"
      ]
     },
     "metadata": {},
     "output_type": "display_data"
    }
   ],
   "source": [
    "def cotangent_explicit(v, f, lam, iterations):\n",
    "    vnew = v.copy()\n",
    "    I = identity(vnew)\n",
    "    Lw = igl.cotmatrix(v, f)\n",
    "    M = igl.massmatrix(vnew, f, igl.MASSMATRIX_TYPE_BARYCENTRIC)\n",
    "\n",
    "    for i in range(iterations):\n",
    "        L = sp.diags(1/M.diagonal()) @ Lw\n",
    "        vnew = (I + lam * L) @ vnew\n",
    "    return vnew\n",
    "    \n",
    "# Produces picture from assignment with lamda = 0.01, iterations = 1000\n",
    "def cotangent_explicit_original(v, f, lam, iterations):\n",
    "    vnew = v.copy()\n",
    "    I = identity(vnew)\n",
    "    Lw = igl.cotmatrix(vnew, f)\n",
    "\n",
    "    for i in range(iterations):\n",
    "        vnew = (I + lam * Lw) @ vnew\n",
    "    return vnew\n",
    "\n",
    "p = mp.subplot(cotangent_explicit(vcow, fcow, 0.000001, 1000), fcow, shading={'wireframe':True}, s = [1,2,0])\n",
    "mp.subplot(cotangent_explicit_original(vcow, fcow, 0.01, 1000), fcow, shading={'wireframe':True}, s = [2,2,1], data = p)\n"
   ]
  },
  {
   "cell_type": "markdown",
   "metadata": {},
   "source": [
    "### Uniform Explicit"
   ]
  },
  {
   "cell_type": "code",
   "execution_count": 16,
   "metadata": {},
   "outputs": [
    {
     "data": {
      "application/vnd.jupyter.widget-view+json": {
       "model_id": "14b00abe54d5459cafae3da35a14ed14",
       "version_major": 2,
       "version_minor": 0
      },
      "text/plain": [
       "Renderer(camera=PerspectiveCamera(children=(DirectionalLight(color='white', intensity=0.6, position=(0.0011806…"
      ]
     },
     "metadata": {},
     "output_type": "display_data"
    }
   ],
   "source": [
    "def uniform_explicit(v, f, lam, iterations):\n",
    "    LU = uniform_Laplace(v, f)\n",
    "    I = identity(v)\n",
    "\n",
    "    vnew = v.copy()\n",
    "    for i in range(iterations):\n",
    "        vnew = (I + lam * LU) @ vnew\n",
    "\n",
    "    return vnew\n",
    "\n",
    "\n",
    "p = mp.plot(uniform_explicit(vcow, fcow, 0.01, 1000), fcow, shading={'wireframe':True})"
   ]
  },
  {
   "cell_type": "markdown",
   "metadata": {},
   "source": [
    "## Implicit laplacian"
   ]
  },
  {
   "cell_type": "markdown",
   "metadata": {
    "tags": []
   },
   "source": [
    "### Uniform Implicit"
   ]
  },
  {
   "cell_type": "code",
   "execution_count": 17,
   "metadata": {
    "tags": []
   },
   "outputs": [
    {
     "data": {
      "application/vnd.jupyter.widget-view+json": {
       "model_id": "beff77a59b1f4fda898132a56b4ce6da",
       "version_major": 2,
       "version_minor": 0
      },
      "text/plain": [
       "Renderer(camera=PerspectiveCamera(children=(DirectionalLight(color='white', intensity=0.6, position=(0.0011428…"
      ]
     },
     "metadata": {},
     "output_type": "display_data"
    }
   ],
   "source": [
    "def uniform_implicit(v, f, lam, iterations):\n",
    "    I = identity(v)\n",
    "\n",
    "    vnew = v.copy()\n",
    "    LU = uniform_Laplace(vnew, f)\n",
    "    A = I - LU * lam\n",
    "    for i in range(iterations):\n",
    "        vnew = spsolve(A, vnew)\n",
    "\n",
    "    return vnew\n",
    "\n",
    "\n",
    "p = mp.plot(uniform_explicit(vcow, fcow, 0.1, 100), fcow, shading={'wireframe':True})"
   ]
  },
  {
   "cell_type": "markdown",
   "metadata": {},
   "source": [
    "### Cotangent Implicit"
   ]
  },
  {
   "cell_type": "code",
   "execution_count": 18,
   "metadata": {
    "tags": []
   },
   "outputs": [
    {
     "data": {
      "application/vnd.jupyter.widget-view+json": {
       "model_id": "efe637e4366e4a05b4cef7f4f23fb961",
       "version_major": 2,
       "version_minor": 0
      },
      "text/plain": [
       "HBox(children=(Output(), Output()))"
      ]
     },
     "metadata": {},
     "output_type": "display_data"
    }
   ],
   "source": [
    "def cotangent_implicit(v, f, lam, iterations):\n",
    "    vnew = v.copy()\n",
    "    I = identity(vnew)\n",
    "    Lw = igl.cotmatrix(vnew, f)\n",
    "\n",
    "    for i in range(iterations):\n",
    "        ''' Smoothing by flowing '''\n",
    "        M = igl.massmatrix(vnew, f)\n",
    "        Minv = sp.diags(1/M.diagonal())\n",
    "        vnew = spsolve((I - lam * Minv @ Lw), vnew)\n",
    "\n",
    "    return vnew\n",
    "\n",
    "def cotangent_implicit_original(v, f, lam, iterations):\n",
    "    vnew = v.copy()\n",
    "    I = identity(vnew)\n",
    "    Lw = igl.cotmatrix(vnew, f)\n",
    "    \n",
    "    for i in range(iterations):\n",
    "        ''' Smoothing produces pictured version when lam = 20 '''\n",
    "        vnew = spsolve((I - lam * Lw), vnew)\n",
    "\n",
    "    return vnew\n",
    "\n",
    "p = mp.subplot(cotangent_implicit(vcow, fcow, 0.01, 1), fcow, shading={'wireframe':True}, s = [1,2,0])\n",
    "mp.subplot(cotangent_implicit_original(vcow, fcow, 20, 1), fcow, shading={'wireframe':True}, s = [1,2,1], data=p)"
   ]
  },
  {
   "cell_type": "code",
   "execution_count": null,
   "metadata": {
    "tags": []
   },
   "outputs": [],
   "source": []
  }
 ],
 "metadata": {
  "kernelspec": {
   "display_name": "Python 3 (ipykernel)",
   "language": "python",
   "name": "python3"
  },
  "language_info": {
   "codemirror_mode": {
    "name": "ipython",
    "version": 3
   },
   "file_extension": ".py",
   "mimetype": "text/x-python",
   "name": "python",
   "nbconvert_exporter": "python",
   "pygments_lexer": "ipython3",
   "version": "3.11.5"
  }
 },
 "nbformat": 4,
 "nbformat_minor": 4
}
