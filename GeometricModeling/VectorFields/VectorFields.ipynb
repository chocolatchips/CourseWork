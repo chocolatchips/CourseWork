{
 "cells": [
  {
   "cell_type": "markdown",
   "metadata": {},
   "source": [
    "# Assigment 4"
   ]
  },
  {
   "cell_type": "code",
   "execution_count": null,
   "metadata": {},
   "outputs": [],
   "source": [
    "import math\n",
    "import numpy as np\n",
    "import scipy.sparse as sp\n",
    "from scipy.sparse.linalg import spsolve\n",
    "\n",
    "import igl\n",
    "import meshplot as mp\n",
    "\n",
    "from math import sqrt"
   ]
  },
  {
   "cell_type": "markdown",
   "metadata": {
    "tags": []
   },
   "source": [
    "# Tangent Vector Fields for Scalar Field Design"
   ]
  },
  {
   "cell_type": "code",
   "execution_count": null,
   "metadata": {},
   "outputs": [],
   "source": [
    "v, f = igl.read_triangle_mesh(\"data/irr4-cyl2.off\")\n",
    "tt, _ = igl.triangle_triangle_adjacency(f)\n",
    "\n",
    "c = np.loadtxt(\"data/irr4-cyl2.constraints\")\n",
    "cf = c[:, 0].astype(np.int64)\n",
    "c = c[:, 1:]"
   ]
  },
  {
   "cell_type": "code",
   "execution_count": null,
   "metadata": {},
   "outputs": [],
   "source": [
    "def align_field(V, F, TT, soft_id, soft_value, llambda):\n",
    "    assert(soft_id[0] > 0)\n",
    "    assert(soft_id.shape[0] == soft_value.shape[0])\n",
    "\n",
    "    \n",
    "    # Edges\n",
    "    e1 = V[F[:, 1], :] - V[F[:, 0], :]\n",
    "    e2 = V[F[:, 2], :] - V[F[:, 0], :]\n",
    "\n",
    "    # Compute the local reference systems for each face, T1, T2\n",
    "    T1 = e1 / np.linalg.norm(e1, axis=1)[:,None]\n",
    "        \n",
    "    T2 =  np.cross(T1, np.cross(T1, e2))\n",
    "    T2 /= np.linalg.norm(T2, axis=1)[:,None]\n",
    "  \n",
    "    # Arrays for the entries of the matrix\n",
    "    data = []\n",
    "    ii = []\n",
    "    jj = []\n",
    "\n",
    "    index = 0\n",
    "    for f in range(F.shape[0]):\n",
    "        for ei in range(3): # Loop over the edges\n",
    "            \n",
    "            # Look up the opposite face\n",
    "            g = TT[f, ei]\n",
    "            \n",
    "            # If it is a boundary edge, it does not contribute to the energy\n",
    "            # or avoid to count every edge twice\n",
    "            if g == -1 or f > g:\n",
    "                continue\n",
    "                \n",
    "            # Compute the complex representation of the common edge\n",
    "            e  = V[F[f, (ei+1)%3], :] - V[F[f, ei], :]\n",
    "            \n",
    "            vef = np.array([np.dot(e, T1[f, :]), np.dot(e, T2[f, :])])\n",
    "            vef /= np.linalg.norm(vef)\n",
    "            ef = (vef[0] + vef[1]*1j).conjugate()\n",
    "            \n",
    "            veg = np.array([np.dot(e, T1[g, :]), np.dot(e, T2[g, :])])\n",
    "            veg /= np.linalg.norm(veg)\n",
    "\n",
    "            eg = (veg[0] + veg[1]*1j).conjugate()\n",
    "            \n",
    "            # Add the term conj(f)^n*ui - conj(g)^n*uj to the energy matrix\n",
    "            data.append(ef);  ii.append(index); jj.append(f)\n",
    "            data.append(-eg); ii.append(index); jj.append(g)\n",
    "            \n",
    "            index += 1\n",
    "            \n",
    "    \n",
    "    sqrtl = sqrt(llambda)\n",
    "    \n",
    "    # Convert the constraints into the complex polynomial coefficients and add them as soft constraints\n",
    "    \n",
    "    # Rhs of the system\n",
    "    b = np.zeros(index + soft_id.shape[0], dtype=complex)\n",
    "    \n",
    "    for ci in range(soft_id.shape[0]):\n",
    "        f = soft_id[ci]\n",
    "        v = soft_value[ci, :]\n",
    "        \n",
    "        # Project on the local frame\n",
    "        c = np.dot(v, T1[f, :]) + np.dot(v, T2[f, :])*1j\n",
    "        \n",
    "        data.append(sqrtl); ii.append(index); jj.append(f)\n",
    "        b[index] = c * sqrtl\n",
    "        \n",
    "        index += 1\n",
    "    \n",
    "    assert(b.shape[0] == index)\n",
    "    \n",
    "    \n",
    "    # Solve the linear system\n",
    "    A = sp.coo_matrix((data, (ii, jj)), shape=(index, F.shape[0])).asformat(\"csr\")\n",
    "    \n",
    "    u = sp.linalg.spsolve(A.H @ A, A.H @ b)\n",
    "    \n",
    "    R = T1 * u.real[:,None] + T2 * u.imag[:,None]\n",
    "\n",
    "    return R"
   ]
  },
  {
   "cell_type": "code",
   "execution_count": null,
   "metadata": {
    "tags": []
   },
   "outputs": [],
   "source": [
    "def align_field_Qmat(V, F, TT, soft_id, soft_value, llambda):\n",
    "    assert(soft_id[0] > 0)\n",
    "    assert(soft_id.shape[0] == soft_value.shape[0])\n",
    "\n",
    "    \n",
    "    # Edges\n",
    "    e1 = V[F[:, 1], :] - V[F[:, 0], :]\n",
    "    e2 = V[F[:, 2], :] - V[F[:, 0], :]\n",
    "\n",
    "    # Compute the local reference systems for each face, T1, T2\n",
    "    T1 = e1 / np.linalg.norm(e1, axis=1)[:,None]\n",
    "        \n",
    "    T2 =  np.cross(T1, np.cross(T1, e2))\n",
    "    T2 /= np.linalg.norm(T2, axis=1)[:,None]\n",
    "  \n",
    "    # Arrays for the entries of the matrix\n",
    "    data = []\n",
    "    ii = []\n",
    "    jj = []\n",
    "    index = 0\n",
    "    for f in range(F.shape[0]):\n",
    "        for ei in range(3): # Loop over the edges\n",
    "            \n",
    "            # Look up the opposite face\n",
    "            g = TT[f, ei]\n",
    "            \n",
    "            # If it is a boundary edge, it does not contribute to the energy\n",
    "            # or avoid to count every edge twice\n",
    "            if g == -1 or f > g:\n",
    "                continue\n",
    "                \n",
    "            # Compute the complex representation of the common edge\n",
    "            e  = V[F[f, (ei+1)%3], :] - V[F[f, ei], :]\n",
    "            \n",
    "            vef = np.array([np.dot(e, T1[f, :]), np.dot(e, T2[f, :])])\n",
    "            vef /= np.linalg.norm(vef)\n",
    "            ef = (vef[0] + vef[1]*1j).conjugate()\n",
    "            ef_bar = ef.conjugate()\n",
    "            \n",
    "            veg = np.array([np.dot(e, T1[g, :]), np.dot(e, T2[g, :])])\n",
    "            veg /= np.linalg.norm(veg)\n",
    "\n",
    "            eg = (veg[0] + veg[1]*1j).conjugate()\n",
    "            eg_bar = eg.conjugate()\n",
    "            \n",
    "            # Add the term conj(f)^n*ui - conj(g)^n*uj to the energy matrix\n",
    "            data.append(ef*ef);  ii.append(index); jj.append(f)\n",
    "            data.append(-ef*eg); ii.append(index); jj.append(g)\n",
    "            data.append(-ef*eg);  ii.append(index+1); jj.append(f)\n",
    "            data.append(eg*eg); ii.append(index+1); jj.append(g)\n",
    "            index += 2\n",
    "            \n",
    "    \n",
    "    sqrtl = sqrt(llambda)\n",
    "    \n",
    "    # Convert the constraints into the complex polynomial coefficients and add them as soft constraints\n",
    "    \n",
    "    # Rhs of the system\n",
    "    b = np.zeros(index + soft_id.shape[0], dtype=complex)\n",
    "    \n",
    "    for ci in range(soft_id.shape[0]):\n",
    "        f = soft_id[ci]\n",
    "        v = soft_value[ci, :]\n",
    "        \n",
    "        # Project on the local frame\n",
    "        c = np.dot(v, T1[f, :]) + np.dot(v, T2[f, :])*1j\n",
    "        \n",
    "        data.append(sqrtl); ii.append(index); jj.append(f)\n",
    "        b[index] = c * sqrtl\n",
    "        \n",
    "        index += 1\n",
    "    \n",
    "    assert(b.shape[0] == index)\n",
    "    \n",
    "    # Solve the linear system\n",
    "    A = sp.coo_matrix((data, (ii, jj)), shape=(index, F.shape[0])).asformat(\"csr\")\n",
    "    u = sp.linalg.spsolve(A.H @ A, A.H @ b)\n",
    "    # print(A.shape, b.shape)\n",
    "    R = T1 * u.real[:,None] + T2 * u.imag[:,None]\n",
    "\n",
    "    return R\n",
    "\n"
   ]
  },
  {
   "cell_type": "code",
   "execution_count": null,
   "metadata": {
    "tags": []
   },
   "outputs": [],
   "source": [
    "def plot_mesh_field(V, F, R, constrain_faces):\n",
    "    # Highlight in red the constrained faces\n",
    "    col = np.ones_like(f)\n",
    "    col[constrain_faces, 1:] = 0\n",
    "    \n",
    "    # Scaling of the representative vectors\n",
    "    avg = igl.avg_edge_length(V, F)/2\n",
    "\n",
    "    #Plot from face barycenters\n",
    "    B = igl.barycenter(V, F)\n",
    "\n",
    "    p = mp.plot(V, F, c=col)\n",
    "    p.add_lines(B, B + R * avg)\n",
    "    \n",
    "    return p"
   ]
  },
  {
   "cell_type": "code",
   "execution_count": null,
   "metadata": {
    "tags": []
   },
   "outputs": [],
   "source": [
    "R = align_field(v, f, tt, cf, c, 1e6)\n",
    "plot_mesh_field(v, f, R, cf)\n",
    "\n",
    "\n",
    "rq = align_field_Qmat(v, f, tt, cf, c, 1e6)\n",
    "plot_mesh_field(v, f, rq, cf)\n",
    "\n",
    "# print('Interlpolated Field:')\n",
    "# for vec in rq:\n",
    "    # print(vec)"
   ]
  },
  {
   "cell_type": "markdown",
   "metadata": {
    "tags": []
   },
   "source": [
    "# Reconstructing a Scalar Field from a Vector Field"
   ]
  },
  {
   "cell_type": "code",
   "execution_count": null,
   "metadata": {
    "tags": []
   },
   "outputs": [],
   "source": [
    "def plot_mesh_field_grad(V, F, R, s):\n",
    "    avg = igl.avg_edge_length(V, F)/2\n",
    "\n",
    "    B = igl.barycenter(V, F)\n",
    "\n",
    "    p = mp.plot(V, F, c=s)\n",
    "    p.add_lines(B, B + R * avg)\n",
    "    \n",
    "    return p\n",
    "\n",
    "G = igl.grad(v, f)\n",
    "A = igl.doublearea(v, f)\n",
    "M = np.append(np.append(A, A), A)\n",
    "M = sp.diags([M], [0])\n",
    "R = align_field(v, f, tt, cf, c, 1e6)\n",
    "u = R.T.reshape(f.shape[0]*3, 1)\n",
    "\n",
    "\n",
    "K = G.T @ M @ G\n",
    "b = G.T @ M @ u\n",
    "\n",
    "\n",
    "s = spsolve(K, b)\n",
    "\n",
    "plot_mesh_field_grad(v, f, R, s)\n",
    "# print(s)"
   ]
  },
  {
   "cell_type": "markdown",
   "metadata": {
    "tags": []
   },
   "source": [
    "# Harmoninc and LSM Parameterizations"
   ]
  },
  {
   "cell_type": "markdown",
   "metadata": {
    "tags": []
   },
   "source": [
    "## Harmonic"
   ]
  },
  {
   "cell_type": "code",
   "execution_count": null,
   "metadata": {
    "tags": []
   },
   "outputs": [],
   "source": [
    "vc, fc = igl.read_triangle_mesh(\"data/camel_head.off\")\n",
    "\n",
    "bnd = igl.boundary_loop(fc)\n",
    "\n",
    "bnd_uv = igl.map_vertices_to_circle(vc, bnd)\n",
    "\n",
    "uv = igl.harmonic_weights(vc, fc, bnd, bnd_uv, 1)\n",
    "\n",
    "v_p = np.hstack([uv, np.zeros((uv.shape[0], 1))])\n",
    "\n",
    "uvu = uv[:, 0]\n",
    "uvv = uv[:, 1]\n",
    "\n",
    "p = mp.subplot(vc, fc, c=uvu, shading={'wireframe':False, 'flat':False}, s = [1, 3, 0])\n",
    "mp.subplot(vc, fc, uv=uv, shading={'wireframe':False, 'flat':False}, s = [1, 3, 1], data=p)\n",
    "mp.subplot(v_p, fc, shading ={'wireframe':True, 'flat':False}, s = [1, 3, 2], data = p)"
   ]
  },
  {
   "cell_type": "markdown",
   "metadata": {
    "tags": []
   },
   "source": [
    "## LSCM"
   ]
  },
  {
   "cell_type": "code",
   "execution_count": null,
   "metadata": {
    "tags": []
   },
   "outputs": [],
   "source": [
    "bnd = igl.boundary_loop(fc)\n",
    "\n",
    "b = np.array([2, 1])\n",
    "\n",
    "b[0] = bnd[0]\n",
    "b[1] = bnd[int(bnd.size / 2)]\n",
    "\n",
    "bc = np.array([[0.0, 0.0], [1.0, 0.0]])\n",
    "\n",
    "_, uv = igl.lscm(vc, fc, b, bc)\n",
    "\n",
    "\n",
    "q = mp.subplot(vc, fc, c=uv[:,1], shading={'wireframe':False, 'flat':False}, s = [1, 3, 0])\n",
    "mp.subplot(vc, fc, uv=uv, shading={'wireframe':False, 'flat':False}, s = [1, 3, 1], data = q)\n",
    "mp.subplot(uv, fc, shading ={'wireframe':True, 'flat':False}, s = [1, 3, 2], data = q)"
   ]
  },
  {
   "cell_type": "markdown",
   "metadata": {},
   "source": [
    "# Editing a Paramaterization with Vector Fields"
   ]
  },
  {
   "cell_type": "code",
   "execution_count": null,
   "metadata": {},
   "outputs": [],
   "source": [
    "v, f = igl.read_triangle_mesh(\"data/irr4-cyl2.off\")\n",
    "tt, _ = igl.triangle_triangle_adjacency(f)\n",
    "\n",
    "c = np.loadtxt(\"data/irr4-cyl2.constraints\")\n",
    "cf = c[:, 0].astype(np.int64)\n",
    "c = c[:, 1:]\n",
    "\n",
    "\n",
    "bnd = igl.boundary_loop(f)\n",
    "\n",
    "bnd_uv = igl.map_vertices_to_circle(v, bnd)\n",
    "\n",
    "uv = igl.harmonic_weights(v, f, bnd, bnd_uv, 1)\n",
    "\n",
    "v_p = np.hstack([uv, np.zeros((uv.shape[0], 1))])\n",
    "\n",
    "R = align_field(v, f, tt, cf, c, 1)\n",
    "\n",
    "G = igl.grad(v, f)\n",
    "A = igl.doublearea(v_p, f)\n",
    "M = np.append(np.append(A, A), A)\n",
    "M = sp.diags([M], [0])\n",
    "R = align_field(v, f, tt, cf, c, 1)\n",
    "u = R.T.reshape(f.shape[0]*3, 1)\n",
    "\n",
    "K = G.T @ M @ G\n",
    "b = G.T @ M @ u\n",
    "\n",
    "s = spsolve(K, b)\n",
    "\n",
    "g = igl.grad(v, f)\n",
    "gv = np.column_stack([uv[:,0], s, np.zeros(uv.shape[0])])\n",
    "\n",
    "n = igl.per_face_normals(v, f, np.zeros(3))\n",
    "n_gv = igl.per_face_normals(gv, f, np.zeros(3))\n",
    "\n",
    "dp = np.sum(n*n_gv, axis=1)\n",
    "flipped = np.where(dp < 0)[0]\n",
    "\n",
    "col = np.ones(f.shape)\n",
    "col[flipped] = [1,0,0]\n",
    "\n",
    "\n",
    "p = mp.subplot(v, f, uv=gv, shading={'wireframe':False}, s=[1,2,0])\n",
    "mp.subplot(v, f, c=col, shading={'wireframe':False}, s=[1,2,1], data=p)\n",
    "\n",
    "# print(flipped)"
   ]
  }
 ],
 "metadata": {
  "kernelspec": {
   "display_name": "Python 3 (ipykernel)",
   "language": "python",
   "name": "python3"
  },
  "language_info": {
   "codemirror_mode": {
    "name": "ipython",
    "version": 3
   },
   "file_extension": ".py",
   "mimetype": "text/x-python",
   "name": "python",
   "nbconvert_exporter": "python",
   "pygments_lexer": "ipython3",
   "version": "3.11.5"
  }
 },
 "nbformat": 4,
 "nbformat_minor": 4
}
